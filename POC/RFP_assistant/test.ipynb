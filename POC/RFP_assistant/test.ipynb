{
 "cells": [
  {
   "cell_type": "code",
   "execution_count": 3,
   "id": "initial_id",
   "metadata": {
    "ExecuteTime": {
     "end_time": "2024-04-08T07:13:23.751965Z",
     "start_time": "2024-04-08T07:13:23.723294Z"
    },
    "collapsed": true
   },
   "outputs": [],
   "source": [
    "import json\n",
    "from typing import (\n",
    "    List,\n",
    "    Optional,\n",
    ")\n",
    "\n",
    "import numpy as np\n",
    "import requests\n",
    "from langchain_community.vectorstores import FAISS\n",
    "from langchain_core.embeddings import Embeddings\n",
    "\n",
    "\n",
    "class JinaEmbeddings(Embeddings):\n",
    "    def __init__(self, url: str, batch_size: Optional[int] = None) -> None:\n",
    "        super().__init__()\n",
    "        self.url = url\n",
    "        self.batch_size = batch_size\n",
    "\n",
    "    def embed_documents(self, texts: List[str]) -> List[List[float]]:\n",
    "        payload = {\"text\": texts,\n",
    "                   \"batch_size\": self.batch_size}\n",
    "        response = requests.post(self.url, json=payload)\n",
    "\n",
    "        if response.status_code == 200:\n",
    "            return np.array(eval(response.text))\n",
    "        else:\n",
    "            return response.status_code\n",
    "\n",
    "    def embed_query(self, text: str) -> List[float]:\n",
    "\n",
    "        return self.embed_documents([text])[0]\n",
    "\n",
    "\n",
    "def find_key_paths(dictionary, path=[]):\n",
    "    \"\"\"递归遍历字典以找到最小粒度的key路径列表\"\"\"\n",
    "    key_paths = []\n",
    "    for key, value in dictionary.items():\n",
    "        # 构建当前路径\n",
    "        current_path = path + [key]\n",
    "\n",
    "        # 如果值仍然是字典，继续递归\n",
    "        if isinstance(value, dict) and value:\n",
    "            key_paths.extend(find_key_paths(value, current_path))\n",
    "        else:\n",
    "            # 如果值不是字典，或者是空字典，那么这个 key 路径就是最小粒度的路径\n",
    "            key_paths.append(current_path)\n",
    "\n",
    "    return key_paths\n",
    "\n",
    "\n",
    "def get_value_from_path(dictionary, key_path):\n",
    "    \"\"\"根据key路径列表从字典中获取值\"\"\"\n",
    "    for key in key_path:\n",
    "        # 更新字典为下一层级\n",
    "        dictionary = dictionary[key]\n",
    "    return dictionary\n",
    "\n",
    "\n",
    "def set_value_by_path(root_dict, key_path, value):\n",
    "    \"\"\"根据key路径列表在字典中设置值\"\"\"\n",
    "    current_dict = root_dict\n",
    "    for key in key_path[:-1]:  # 遍历路径中的 key，除了最后一个\n",
    "        if key not in current_dict or not isinstance(current_dict[key], dict):\n",
    "            current_dict[key] = {}  # 如果路径不存在，则创建新字典\n",
    "        current_dict = current_dict[key]\n",
    "    # 设置最终的 key 的值\n",
    "    current_dict[key_path[-1]] = value\n",
    "\n",
    "\n",
    "def document_to_dict(document):\n",
    "    dictionary = {'page_content': document.page_content, 'metadata': document.metadata}\n",
    "    return dictionary\n",
    "\n",
    "\n",
    "faiss_index_path = './faiss_index/bid'\n",
    "\n",
    "db = FAISS.load_local(faiss_index_path, embeddings=JinaEmbeddings(url=\"http://18.138.147.39:9032/api/v2/embed_onnx\"),\n",
    "                       allow_dangerous_deserialization=True)\n",
    "\n",
    "\n",
    "faiss_index_path_split = './faiss_index/split_bid'\n",
    "\n",
    "db_split = FAISS.load_local(faiss_index_path_split, embeddings=JinaEmbeddings(url=\"http://18.138.147.39:9032/api/v2/embed_onnx\"),\n",
    "                       allow_dangerous_deserialization=True)"
   ]
  },
  {
   "cell_type": "code",
   "execution_count": 8,
   "id": "1c3298d8c6062502",
   "metadata": {
    "ExecuteTime": {
     "end_time": "2024-04-08T07:13:26.099426Z",
     "start_time": "2024-04-08T07:13:24.908931Z"
    },
    "collapsed": false
   },
   "outputs": [
    {
     "name": "stdout",
     "output_type": "stream",
     "text": [
      "项目名称 招标公告\n",
      "[{'page_content': '1.3招标范围、计划工期和质量要求', 'metadata': {'section': ['第二章 投标人须知', '投标人须知前附表', '1．总则', '1.3招标范围、计划工期和质量要求'], 'page': 25, 'data': '1.3.1本次招标范围：见投标人须知前附表。 1.3.2本招标项目的计划工期：见投标人须知前附表。 1.3.3本招标项目的质量要求：见投标人须知前附表。'}, 'query': '项目名称 招标公告'}, {'page_content': '1.1.4招标范围', 'metadata': {'section': ['第七章 技术标准和要求', '1．总则', '1.1.4招标范围'], 'page': 328, 'data': '本项目各标段招标范围为：光伏区、35kV集电线路、220kV升压站的勘察设计，以及与项目有关的全部设备（不含二次监控系统以及集控子站）；光伏组件、逆变器及支架按暂估价计入）和材料的采购供应、建筑及安装工程施工、项目管理、试验及检查测试、系统调试、试运行、消缺、培训、验收（含各项专题、阶段验收、竣工验收等验收）、移交生产、性能质量保证、工程质量保修期限的服务，质保期内所有备品备件、专用工具采购供应以及相关的技术资料整理提供服务，同时也包括办理建设手续、用地手续、质量监检、并网手续、调度手续及供电手续、征地协调，并承担全部相关费用。具体招标范围包括（包括但不限于）： （1）勘察设计范围为建设功能完整的光伏电站，包括但不限于光伏区、35kV集电线路、220kV升压站、施工电源（并网后作为电站备用电源）的勘察工作；初步设计阶段包括但不限于光伏区1:500地形图测绘、220kV升压站1:500地形图测绘、地勘、初步设计报告(含审查)、设备技术规范书、材料清单、工程量清单等；编制安全设施设计专篇、职业卫生防护设施设计专篇、环境与水土保持设计专篇等；施工图设计阶段包括但不限于项目地勘、设计、计算书、采购设备图纸文件、竣工图编制；完成相关部门施工图审查工作；施工图技术交底、派出设计代表驻场并解决现场施工出现的与设计相关的技术问题等现场服务工作等。（2）光伏方阵区设备（光伏组件、逆变器及支架按暂估价计入）和材料采购，包括：所有光伏组件、逆变器、支架、箱变、电缆、光缆及附件、预制管桩、场区围栏、通信设备（场区全覆盖）、电缆防火、电缆保护管等；防雷接地、消防等相关设备和材料；光伏场区视频监控系统及站区采集数据所需的相关设备，承担所有设备质保期内的相关工作及费用。 （3）光伏方阵区全部土建工程，包括：光伏支架基础施工（含护脚），箱变设备基础施工（含事故油池），光伏场区电缆沟施工，场区内、外道路施工，场区接地工程，场区及场外防洪及场区大门施工，场区围栏等全部土建工程，及该项目所需的临时占地补偿费用。 （4）光伏方阵区安装工程，包括：支架，光伏组件，箱、逆变设备，通讯柜，电缆、光缆及附件，防雷接地、消防、光伏场区监控系统等所有设备和材料的安装、系统集成、试验（包括常规试验和特殊性试验）、调试、监造、催交、运输、保险、接车、卸车、仓储保管、试运行、消缺处理至移交给招标人的全部工作；以及承担招标人认为有必要的设备出厂检查验收工作等。 （5）35kV集电线路设备和材料采购、建筑安装工程，包括：电缆和光缆设备采购、电缆沟道电缆标识桩的施工、光缆敷设、电缆敷设、电缆头和电缆中间接头的制作、电缆试验、光纤熔接、调试、运输、保险、接车、卸车、仓储保管等。 （6）220kV升压站设备和材料采购，包括但不限于：GIS、主变压器、35kV开关柜、SVG、接地变设备、站用电设备、全站防雷及设备接地（包括电气设备、设备支架、构架和辅助装置的工作接地、保护接地和防雷接地）、电缆及附件、电缆防火封堵，其他电气一次设备；部分电气二次设备（不含二次监控系统以及集控子站）、安全反恐防范系统、备用电源、消防及给排水、污水处理、全站照明、供暖、通风及空调设备和材料；承担本项目所有设备质保期内的相关工作及费用。 （7）220kV升压站全部土建施工及相关目视化要求，包括但不限于：清表及场地平整（配合招标人完成）、站内所有建筑及装修（满足招标人要求）、标识标牌（满足招标人施工期及并网验收要求）、目视化、所有设备基础、进站道路、站内道路、围墙、大门、局部绿化、水土保持及环境保护工程施工、防洪、检修道路、给排水以及接入到站内的公网通信线路施工及租用（不低于一路，并承担两年的服务费）、升压站至内蒙古呼和浩特区域集控中心的专用通信链路。 （8）220kV升压站所有电气设备（包括甲供设备）和材料安装工程，包括：GIS、主变压器、35kV开关柜、SVG、接地变设备、站用电设备、全站防雷及设备接地（包括电气设备、设备支架、构架和辅助装置的工作接地、保护接地和防雷接地）、电缆及附件、电缆防火封堵，其他电气一次设备；电气二次及综合自动化设备（包括升压站综自系统服务器及工作站、五防系统、AGC/AVC系统、一次调频系统、协调控制系统以及集控子站系统）、远动系统、二次安防系统、计量设备、控制及直流系统、环境检测系统和光功率预测系统、快频响应装置、综合安全防护系统、一体化电源系统、辅助控制系统（包含辅助监控系统平台、视频环境及安防系统、火灾自动报警及消防广播系统）、调度自动化系统、态势感知系统、安全反恐防范系统、备用电源、消防及给排水、污水处理、全站照明、供暖、通风及空调等设备和材料全部设备的安装、试验、监造、催交、运输、保险、接车、卸车、仓储保管等全站设备调试、与电网联调、与呼和浩特集控中心联调等，并完成试运行﹑消缺处理直至移交给招标人的全部工作；。 （9）安装调试工程包括：应承担所有设备（包含甲供设备）到货卸车、验货（招标人、供货商、中标人、监理人四方参加）﹑二次运输就位﹑保管﹑安装﹑调试（包括电站数据接入内蒙古呼和浩特集控中心并转发至北京总部集控中心，并完成集控侧后台配置、功能完善、画面展示、数据库建立等工作）﹑试运行﹑消缺处理直至移交给招标人的全部工作；承担招标人认为有必要的甲供设备出厂检查验收工作等。承包人需设专人对到场甲供设备予以保管，并根据规范及厂商要求合理存放保管设备物资。 （10）办理项目施工有关的许可文件并承担相应费用，包括办理地方施工备案手续、劳动安全与职业健康手续等；安全监督、质量监督、应急预案备案；完成水土保持及环境保护监理监测（包括电磁辐射监测）等工作；办理安全验收、水保（水土保持补偿费由招标人承担）、环保(含电磁辐射验收)、洪评、防雷、消防、危废库房建设手续、职业病危害控制效果评价、规划验收、竣工备案等最终验收及备案工作（上述专项验收包含所有验收前置手续的办理，如消防验收须提前完成第三方检测工作）；办理施工所涉及临时用地的征用手续以及相关协调工作并承担相应补偿、恢复等费用，并通过验收。 （11）配合招标人完成项目的永久用地（含林地、草地等）红线内用地手续办理和用地协调工作。 （12）配合招标人完成与项目相关的勘测定界复测、土地报批、林地报批、建设用地批复（永久及临时）、建设用地规划许可证、建设工程规划许可证、土地使用权证、施工许可证（或政府同等法律效力的批文）、房屋质量监督委托（如有）、不动产权证（上述各项证件办理工作包含所有前置手续的办理）等的办理工作。 （13）办理项目电力业务许可证、办理转商业运营手续、完成并网手续（包括办理《优先发电合同》、《并网调度协议》、《通信协议》、《高压供电合同》等与国网公司签订的各项合同）。 （14）按照招标人要求完成本项目施工期及并网验收前所需的宣传标语、标识标牌等以及生产准备工作（包含但不限于安全工器具、安全设施及设备设施临时标识标牌等），配合光功率预测系统接入调试及数据上报工作。 （15）办理并网前、后的各项验收手续（包含政府、招标人组织的各类验收），并取得相应报告；办理本项目并网前电能质量测试、施工图审查手续、电能质量测试、保护定值计算、角比差试验及35kV集电线路参数实测、新能源电站耐受能力实测建模、快频响应测试、SVG首年性能测试、应急预案备案及验收、等保测评及安全评估、电力公司并网验收、电力工程质量监督检查并取得最终监督检验报告；开通调度数据网通道以及到基地和呼和浩特集控中心电网专线通道；承担本项目涉及的审查及验收相关费用。 （16）项目并网前后所必须的全部试验，所有电气设备常规试验和特殊试验，包括但不限于电气设备交接试验规程(GB50150-2016)及电网公司要求的各项试验要求；并对各系统设备进行分系统调试和联调；承担本项目涉及的试验相关费用。 （17）投标人负责及配合招标人工作所涉及审查、验收、协调等费用也应由投标人承担，其费用包括在总价中。除有明确指示由招标人负责的费用以外，其余本工程所涉及所有费用均由投标人承担。 （18）招标文件中未列出但对于一个光伏电站的功能、安全、稳定运行必不可少的建筑、设备、材料及服务等，也应由投标人提供，其费用包括在总价中。 （19）投标方提供的设备及系统应满足接入招标方提供的新能源场站一体化监控系统要求，开放接口、协议并配合完成接入。 （20）项目开展的初步设计、施工图设计以及支撑设计及施工、安装等的专题研究，其涉及的相关费用列入招标方科研投入，本部分应单独报价。 （21）所有机房按照等保三级要求及中国长江三峡集团数据中心管理办法建设。 （22）机房所有机柜前后门需用透明材质，方便机器人读取数据。 （23）投标方应以工程对象为核心，对工程项目设计、建设阶段产生的信息进行数字化创建并移交，数字化交付内容包括但不限于声像文件、电子文档、三维模型、图纸等，数字应以结构化数据为主，参照发电工程数据交付、发电工程数字化交付内容规定、建筑信息模型设计交付标准以及中国三峡新能源（集团）股份有限公司设备交付生产技术规范、电力生产物资编码规范等相关规范要求执行。 （24）投标方应配合完成招标方相关科研项目开展及落实。'}, 'query': '项目名称 招标公告'}, {'page_content': '2.2招标范围', 'metadata': {'section': ['第一章 招标公告', '2．项目概况与招标范围', '2.2招标范围'], 'page': 10, 'data': '（1）本项目工程分为八个工程标段，各标段招标范围包括但不限于：光伏区、35kV 集电线路、220kV 升压站的勘察设计，以及与项目有关的全部设备（不含二次监控系统以及集控子站；光伏组件、逆变器及支架按暂估价计入）和材料的采购供应、建筑及安装工程施工、项目管理、试验及检查测试、系统调试、试运行、消缺、培训、验收（含各项专题、阶段验收、竣工验收等验收）、移交生产、性能质量保证、工程质量保修期限的服务，质保期内所有备品备件、专用工具采购供应以及相关的技术资料整理提供服务。同时也包括配合招标人办理建设手续、用地手续，负责办理质量监检、并网手续、调度手续及供电手续、征地协调、各类关系协调等（含对端变电站站内协调），并承担全部相关费用。 （2）详细招标范围详见招标文件和第七章“技术标准和要求”。 （3）分界点：本项目以光伏场升压站侧出线门架为招标范围分界点。 光伏场区、升压站内的所有设计、设备（不含二次监控系统以及集控子站）及材料、施工、安装及调试工作均包含在各标段。各标段配合完成运维中心至各场站间通讯设备的安装及链路的调试工作。投标人均应按招标人及监理人的指示在本项目实施与本工程有关的各项工作提供必要条件，并做好相关配合服务工作（包含但不限于手续协调、设备调试、地方协调等）。各标标段不包含储能系统相关设计、设备、建筑及安装工作。'}, 'query': '项目名称 招标公告'}, {'page_content': '第一章 招标公告', 'metadata': {'section': ['第一章 招标公告'], 'page': 9, 'data': '内蒙古库布齐沙漠鄂尔多斯中北部新能源基地700万千瓦 光伏项目工程设计施工采购招标公告 （招标编号：T231100111507）'}, 'query': '项目名称 招标公告'}]\n"
     ]
    }
   ],
   "source": [
    "with open('query.json', 'r', encoding='utf-8') as file:\n",
    "    query_dict = json.load(file)\n",
    "\n",
    "key_paths = find_key_paths(query_dict)\n",
    "\n",
    "result = {}\n",
    "prefix = '全文检索：'\n",
    "search_type = 'similarity'\n",
    "search_kwargs = {\n",
    "    'k': 10,\n",
    "    'score_threshold': 0,\n",
    "    'fetch_k': 10,\n",
    "    'lambda_mult': 0,\n",
    "    'filter': {}\n",
    "}\n",
    "retriever = db.as_retriever(k=10)\n",
    "retriever_split = db_split.as_retriever(k=10)\n",
    "\n",
    "for key_path in key_paths[:1]:\n",
    "    query = get_value_from_path(query_dict, key_path)\n",
    "    if query:\n",
    "        if query.startswith(prefix):\n",
    "            docs = retriever_split.invoke(query[len(prefix):])\n",
    "        else:\n",
    "            docs = retriever.invoke(query)\n",
    "        docs = [{**document_to_dict(doc), 'query': query} for doc in docs]\n",
    "        print(query)\n",
    "        print(docs)\n",
    "        set_value_by_path(root_dict=result, key_path=key_path, value=docs)\n",
    "\n",
    "with open('result/bid.json', 'w', encoding='utf-8') as file:\n",
    "    file.write(json.dumps(result, ensure_ascii=False, indent=4))"
   ]
  },
  {
   "cell_type": "code",
   "execution_count": 2,
   "id": "d85ed3bb4d075e41",
   "metadata": {
    "ExecuteTime": {
     "end_time": "2024-04-08T07:02:17.045842Z",
     "start_time": "2024-04-08T07:02:17.027854Z"
    },
    "collapsed": false
   },
   "outputs": [],
   "source": [
    "import PyPDF2\n",
    "\n",
    "def preprocess_pdf(pdf_path):\n",
    "    text_by_page = []\n",
    "    with open(pdf_path, 'rb') as file:\n",
    "        reader = PyPDF2.PdfReader(file)\n",
    "        for page in reader.pages:\n",
    "            text = page.extract_text()\n",
    "            text_by_page.append(text)\n",
    "    return text_by_page"
   ]
  },
  {
   "cell_type": "code",
   "execution_count": 7,
   "id": "4165562c66a8e6e",
   "metadata": {
    "collapsed": false
   },
   "outputs": [],
   "source": [
    "pages = preprocess_pdf('bid.pdf')"
   ]
  },
  {
   "cell_type": "code",
   "execution_count": 35,
   "id": "e6c6f028",
   "metadata": {},
   "outputs": [
    {
     "name": "stdout",
     "output_type": "stream",
     "text": [
      "0 None\n",
      "1 None\n",
      "2 None\n",
      "3 None\n",
      "4 None\n",
      "5 None\n",
      "6 None\n",
      "7 None\n",
      "8 1\n",
      "9 2\n",
      "10 3\n",
      "11 4\n",
      "12 5\n",
      "13 65\n",
      "14 7\n",
      "15 8\n",
      "16 9\n",
      "17 10\n",
      "18 11\n",
      "19 12\n",
      "20 13\n",
      "21 14\n",
      "22 15\n",
      "23 16\n",
      "24 171\n",
      "25 18\n",
      "26 19\n",
      "27 20\n",
      "28 211\n",
      "29 22\n",
      "30 23\n",
      "31 243\n",
      "32 253\n",
      "33 26\n",
      "34 27\n",
      "35 28\n",
      "36 29\n",
      "37 30\n",
      "38 31\n",
      "39 32\n",
      "40 33\n",
      "41 34\n",
      "42 35\n",
      "43 36\n",
      "44 37\n",
      "45 38\n",
      "46 39\n",
      "47 40\n",
      "48 41\n",
      "49 42\n",
      "50 431\n",
      "51 44\n",
      "52 45\n",
      "53 46\n",
      "54 47\n",
      "55 481\n",
      "56 49\n",
      "57 50\n",
      "58 51\n",
      "59 521\n",
      "60 531\n",
      "61 542\n",
      "62 553\n",
      "63 56\n",
      "64 574\n",
      "65 58\n",
      "66 59\n",
      "67 60\n",
      "68 615\n",
      "69 62\n",
      "70 63\n",
      "71 64\n",
      "72 657\n",
      "73 66\n",
      "74 67\n",
      "75 68\n",
      "76 69\n",
      "77 70\n",
      "78 71\n",
      "79 72\n",
      "80 73\n",
      "81 74\n",
      "82 75\n",
      "83 76\n",
      "84 7716\n",
      "85 78\n",
      "86 79\n",
      "87 80\n",
      "88 81\n",
      "89 82\n",
      "90 83\n",
      "91 84\n",
      "92 85\n",
      "93 86\n",
      "94 8719\n",
      "95 8820\n",
      "96 8920\n",
      "97 9021\n",
      "98 91\n",
      "99 92\n"
     ]
    }
   ],
   "source": [
    "for i in range(100):\n",
    "    print(i, extract_leading_numbers(pages[i]))"
   ]
  },
  {
   "cell_type": "code",
   "execution_count": 23,
   "id": "ad60ecdd",
   "metadata": {},
   "outputs": [],
   "source": [
    "import re\n",
    "def extract_leading_numbers(s):\n",
    "    # 使用正则表达式匹配字符串开头的数字\n",
    "    match = re.match(r'\\d+', s)\n",
    "    if match:\n",
    "        return match.group()  # 返回匹配到的数字字符串\n",
    "    else:\n",
    "        return None  # 如果开头没有数字，则返回None\n"
   ]
  },
  {
   "cell_type": "code",
   "execution_count": 81,
   "id": "9e18dfe2",
   "metadata": {},
   "outputs": [],
   "source": [
    "def generate_regex_pattern(text):\n",
    "    punctuation = r'[.,;:!?]'\n",
    "    parts = re.split(f'({punctuation}|\\s+|\\d+|[a-zA-Z]+|[^a-zA-Z\\d\\s]+)', text)\n",
    "    escaped_parts = [(r'\\s*' if part.isspace() else re.escape(part)) for part in parts if part]\n",
    "    pattern = r'\\s*'.join(escaped_parts)\n",
    "    return pattern\n",
    "\n",
    "\n",
    "def find_text(text_by_page, search_text, start_page=1):\n",
    "    start_index = max(start_page - 1, 0)\n",
    "    pattern = generate_regex_pattern(search_text)\n",
    "    compiled_pattern = re.compile(pattern)\n",
    "    for i, page_text in enumerate(text_by_page[start_index:], start=start_index):\n",
    "        print(i)\n",
    "        if compiled_pattern.search(page_text):\n",
    "            print('find !')\n",
    "            print(i, page_text)\n",
    "            page_before = extract_leading_numbers(text_by_page[i-1]) if i >1 else text_by_page[i]\n",
    "            page_after = extract_leading_numbers(text_by_page[i+1]) if i < (len(text_by_page)-1) else text_by_page[i]\n",
    "            page_len = min(len(page_before) if page_before else 1000000, len(page_after) if page_after else 10000000)\n",
    "            return int(extract_leading_numbers(page_text)[:page_len]) if extract_leading_numbers(page_text) else None\n",
    "    return None"
   ]
  },
  {
   "cell_type": "code",
   "execution_count": 75,
   "id": "360befb3",
   "metadata": {},
   "outputs": [],
   "source": [
    "search_text = \"内蒙古库布齐沙漠鄂尔多斯中北部新能源基地700万千瓦光伏项目分为组团1和组团4两个组团，组团1包括5个工程标段（标段1-5），组团4包括3个工程标段（标段6-8），8个工程标段共建设12座220kV升压站，总建设规模为700万千瓦，场址均位于内蒙古自治区鄂尔多斯市达拉特旗，场址海拔约1060m~1150m，场址附近有兴巴高速、乌漫线经过，对外交通条件较便利。组团及标段划分示意见图2.1;\""
   ]
  },
  {
   "cell_type": "code",
   "execution_count": 76,
   "id": "817ac09d",
   "metadata": {},
   "outputs": [
    {
     "data": {
      "text/plain": [
       "<re.Match object; span=(9, 19), match='内蒙古库布齐沙漠鄂尔'>"
      ]
     },
     "execution_count": 76,
     "metadata": {},
     "output_type": "execute_result"
    }
   ],
   "source": [
    "pattern = generate_regex_pattern(search_text[:10])\n",
    "compiled_pattern = re.compile(pattern)\n",
    "compiled_pattern.search(pages[8])"
   ]
  },
  {
   "cell_type": "code",
   "execution_count": 97,
   "id": "54094f41",
   "metadata": {},
   "outputs": [
    {
     "data": {
      "text/plain": [
       "'56承包人在履行合同过程中应遵守法律，并保证发包人免于承担因承包人违反法律\\n而引起的任何责任。\\n4.1.2依法纳税\\n承包人应按有关法律规定纳税，应缴纳的税金包括在合同价格内。\\n4.1.3完成各项承包工作\\n承包人应按合同约定以及监理人根据第3.4款作出的指示，完成合同约定的全部\\n工作，并对工作中的任何缺陷进行整改、完善和修补，使其满足合同约定的目的。除\\n专用合同条款另有约定外，承包人应提供合同约定的工程设备和承包人文件，以及为\\n完成合同工作所需的劳务、材料、施工设备和其他物品，并按合同约定负责临时设施\\n的设计、施工、运行、维护、管理和拆除。\\n4.1.4对设计、施工作业和施工方法，以及工程的完备性负责\\n承包人应按合同约定的工作内容和进度要求，编制设计、施工的组织和实施计划，\\n并对所有设计、施工作业和施工方法，以及全部工程的完备性和安全可靠性负责。\\n4.1.5保证工程施工和人员的安全\\n承包人应按第10.2款约定采取施工安全措施，确保工程及其人员、材料、设备\\n和设施的安全，防止因工程施工造成的人身伤害和财产损失。\\n4.1.6负责施工场地及其周边环境与生态的保护工作\\n承包人应按照第10.4款约定负责施工场地及其周边环境与生态的保护工作。\\n4.1.7避免施工对公众与他人的利益造成损害\\n承包人在进行合同约定的各项工作时，不得侵害发包人与他人使用公用道路、水\\n源、市政管网等公共设施的权利，避免对邻近的公共设施产生干扰。承包人占用或使\\n用他人的施工场地，影响他人作业或生活的，应承担相应责任。\\n4.1.8为他人提供方便\\n承包人应按监理人的指示为他人在施工场地或附近实施与工程有关的其他各项\\n工作提供可能的条件。除合同另有约定外，提供有关条件的内容和可能发生的费用，\\n由监理人按第3.5款商定或确定。\\n4.1.9工程的维护和照管\\n工程接收证书颁发前，承包人应负责照管和维护工程。工程接收证书颁发时尚有\\n部分未竣工工程的，承包人还应负责该未竣工工程的照管和维护工作，直至竣工后移\\n交给发包人。'"
      ]
     },
     "execution_count": 97,
     "metadata": {},
     "output_type": "execute_result"
    }
   ],
   "source": [
    "pages[63]"
   ]
  },
  {
   "cell_type": "code",
   "execution_count": 88,
   "id": "67cede94",
   "metadata": {},
   "outputs": [
    {
     "name": "stdout",
     "output_type": "stream",
     "text": [
      "7\n",
      "8\n",
      "find !\n",
      "8 1第一章招标公告\n",
      "内蒙古库布齐沙漠鄂尔多斯中北部新能源基地700万千瓦\n",
      "光伏项目工程设计施工采购招标公告\n",
      "（招标编号：T231100111507）\n",
      "1．招标条件\n",
      "本招标项目内蒙古库布齐沙漠鄂尔多斯中北部新能源基地700万千瓦光伏\n",
      "项目工程设计施工，已获批准建设，建设资金来自招标人自有资金和自筹资金，\n",
      "招标人为内蒙古三峡蒙能能源有限公司，招标代理机构为三峡国际招标有限责\n",
      "任公司。项目已具备招标条件，现对该项目的设计施工进行公开招标。\n",
      "2．项目概况与招标范围\n",
      "2.1项目概况\n",
      "内蒙古库布齐沙漠鄂尔多斯中北部新能源基地700万千瓦光伏项目分为组\n",
      "团1和组团4两个组团，组团1包括5个工程标段（标段1-5），组团4包括3\n",
      "个工程标段（标段6-8），8个工程标段共建设12座220kV升压站，总建设规\n",
      "模为700万千瓦，场址均位于内蒙古自治区鄂尔多斯市达拉特旗，场址海拔约\n",
      "1060m~1150m，场址附近有兴巴高速、乌漫线经过，对外交通条件较便利。组\n",
      "团及标段划分示意见图2.1;\n",
      "图2.1组团及标段划分示意图\n",
      "2.1.1组团1概况：\n",
      "组团1位于达拉特旗县城西南侧，海拔约1060m~1150m。达拉特旗距包头\n",
      "机场25公里、鄂尔多斯机场110公里、呼和浩特机场150公里。组团1场址地\n",
      "势较为平坦，对外交通便利，适宜光伏场地建设。场外运输可利用较为完善的高\n"
     ]
    },
    {
     "data": {
      "text/plain": [
       "1"
      ]
     },
     "execution_count": 88,
     "metadata": {},
     "output_type": "execute_result"
    }
   ],
   "source": [
    "find_text(pages, search_text[:10], start_page=8)"
   ]
  },
  {
   "cell_type": "code",
   "execution_count": null,
   "id": "9710b920",
   "metadata": {},
   "outputs": [],
   "source": []
  }
 ],
 "metadata": {
  "kernelspec": {
   "display_name": "Python 3",
   "language": "python",
   "name": "python3"
  },
  "language_info": {
   "codemirror_mode": {
    "name": "ipython",
    "version": 3
   },
   "file_extension": ".py",
   "mimetype": "text/x-python",
   "name": "python",
   "nbconvert_exporter": "python",
   "pygments_lexer": "ipython3",
   "version": "3.10.13"
  }
 },
 "nbformat": 4,
 "nbformat_minor": 5
}
